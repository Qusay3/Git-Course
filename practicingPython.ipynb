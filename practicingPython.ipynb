{
 "cells": [
  {
   "cell_type": "code",
   "execution_count": 4,
   "id": "801575a8",
   "metadata": {},
   "outputs": [],
   "source": [
    "first_name = 'Qusay'\n",
    "last_name = 'Ahmed'"
   ]
  },
  {
   "cell_type": "code",
   "execution_count": 5,
   "id": "da66b355",
   "metadata": {},
   "outputs": [
    {
     "name": "stdout",
     "output_type": "stream",
     "text": [
      "My first name is Qusay and my last name is Ahmed\n"
     ]
    }
   ],
   "source": [
    "#shift + tab will show you the keywprds use\n",
    "print(\"My first name is {} and my last name is {}\".format(first_name, Last_name))"
   ]
  },
  {
   "cell_type": "code",
   "execution_count": 7,
   "id": "870557a2",
   "metadata": {},
   "outputs": [
    {
     "name": "stdout",
     "output_type": "stream",
     "text": [
      "my first name is Qusay and my last name is Ahmed\n"
     ]
    }
   ],
   "source": [
    "print(\"my first name is {first} and my last name is {last}\".format(first=first_name,last=last_name))"
   ]
  },
  {
   "cell_type": "code",
   "execution_count": 11,
   "id": "0bfc5d07",
   "metadata": {},
   "outputs": [
    {
     "data": {
      "text/plain": [
       "5"
      ]
     },
     "execution_count": 11,
     "metadata": {},
     "output_type": "execute_result"
    }
   ],
   "source": [
    "len(\"Qusay\")"
   ]
  },
  {
   "cell_type": "code",
   "execution_count": 14,
   "id": "83b87472",
   "metadata": {},
   "outputs": [
    {
     "data": {
      "text/plain": [
       "3"
      ]
     },
     "execution_count": 14,
     "metadata": {},
     "output_type": "execute_result"
    }
   ],
   "source": [
    "len(['1','Qusay','1.5'])"
   ]
  },
  {
   "cell_type": "code",
   "execution_count": 27,
   "id": "5d9ed507",
   "metadata": {},
   "outputs": [],
   "source": [
    "f_var = 'Geety'\n",
    "s_var = 25\n",
    "th_var = 'Broadview ave'\n",
    "fo_var = 'Student'\n",
    "fi_var = '647-111-1111'"
   ]
  },
  {
   "cell_type": "code",
   "execution_count": 42,
   "id": "786b6d4a",
   "metadata": {},
   "outputs": [
    {
     "name": "stdout",
     "output_type": "stream",
     "text": [
      "My name is Geety and I am 25 years old, I live in Broadview ave, I am s Student and my phone number is 647-111-1111\n"
     ]
    }
   ],
   "source": [
    "print(\"My name is {} and I am {} years old, I live in {}, I am s {} and my phone number is {b}\".format(f_var,s_var,th_var,fo_var,b=fi_var))"
   ]
  },
  {
   "cell_type": "code",
   "execution_count": 43,
   "id": "1c7350e8",
   "metadata": {},
   "outputs": [
    {
     "name": "stdout",
     "output_type": "stream",
     "text": [
      "hello, I am Geety and I am a Student\n"
     ]
    }
   ],
   "source": [
    "print(\"hello, I am {name} and I am a {student}\".format(name=f_var,student=fo_var))"
   ]
  },
  {
   "cell_type": "code",
   "execution_count": 44,
   "id": "bf2fdd77",
   "metadata": {},
   "outputs": [
    {
     "name": "stdout",
     "output_type": "stream",
     "text": [
      "I am 25 and I live in Broadview ave\n"
     ]
    }
   ],
   "source": [
    "print(\"I am {age} and I live in {address}\".format(age=s_var,address=th_var))"
   ]
  },
  {
   "cell_type": "code",
   "execution_count": 45,
   "id": "9ec8d576",
   "metadata": {},
   "outputs": [
    {
     "name": "stdout",
     "output_type": "stream",
     "text": [
      "647-111-1111\n"
     ]
    }
   ],
   "source": [
    "print(fi_var)"
   ]
  },
  {
   "cell_type": "code",
   "execution_count": 62,
   "id": "1b227ccf",
   "metadata": {},
   "outputs": [
    {
     "name": "stdout",
     "output_type": "stream",
     "text": [
      "Hello, My name is Geety , and I am 25 Years old I am a  Student I live in Broadview ave and my phone number is 647-111-1111\n"
     ]
    }
   ],
   "source": [
    "print(\"Hello, My name is \" + f_var,\",\" + \" and I am\" , s_var , \"Years old\", \"I am a \", fo_var, \"I live in\", th_var, \"and my phone number is\", fi_var)"
   ]
  },
  {
   "cell_type": "code",
   "execution_count": 64,
   "id": "cedc109c",
   "metadata": {},
   "outputs": [
    {
     "data": {
      "text/plain": [
       "False"
      ]
     },
     "execution_count": 64,
     "metadata": {},
     "output_type": "execute_result"
    }
   ],
   "source": [
    "bool()"
   ]
  },
  {
   "cell_type": "code",
   "execution_count": 131,
   "id": "a6562b93",
   "metadata": {},
   "outputs": [],
   "source": [
    "my_str = \"In the name of God\"\n",
    "my_str2 = 'Qusay1233'"
   ]
  },
  {
   "cell_type": "code",
   "execution_count": 140,
   "id": "641ffd64",
   "metadata": {},
   "outputs": [
    {
     "data": {
      "text/plain": [
       "False"
      ]
     },
     "execution_count": 140,
     "metadata": {},
     "output_type": "execute_result"
    }
   ],
   "source": [
    "# my_str2.istitle()\n",
    "# my_str2.isspace()\n",
    "# my_str.isdigit()\n",
    "my_str.istitle() and my_str2.isalnum()"
   ]
  },
  {
   "cell_type": "code",
   "execution_count": 141,
   "id": "9e01647b",
   "metadata": {},
   "outputs": [
    {
     "data": {
      "text/plain": [
       "True"
      ]
     },
     "execution_count": 141,
     "metadata": {},
     "output_type": "execute_result"
    }
   ],
   "source": [
    "my_str.endswith('d') or my_str2.isnum()"
   ]
  },
  {
   "cell_type": "code",
   "execution_count": 130,
   "id": "c7b5580a",
   "metadata": {},
   "outputs": [
    {
     "name": "stdout",
     "output_type": "stream",
     "text": [
      "True\n",
      "False\n",
      "True\n",
      "False\n",
      "False\n",
      "False\n",
      "False\n",
      "False\n",
      "False\n"
     ]
    }
   ],
   "source": [
    "print(my_str2.isalnum())\n",
    "print(my_str.isalpha())\n",
    "print(my_str.endswith('d'))\n",
    "print(my_str.startswith(\"i\")) # notice it start wil capital I\n",
    "print(my_str.islower())\n",
    "print(my_str.isupper())\n",
    "print(my_str.istitle())\n",
    "print(my_str.isnumeric())\n",
    "print(my_str.isspace())"
   ]
  },
  {
   "cell_type": "markdown",
   "id": "0ec3446d",
   "metadata": {},
   "source": [
    "## list"
   ]
  },
  {
   "cell_type": "code",
   "execution_count": 142,
   "id": "11f1eb3b",
   "metadata": {},
   "outputs": [
    {
     "data": {
      "text/plain": [
       "list"
      ]
     },
     "execution_count": 142,
     "metadata": {},
     "output_type": "execute_result"
    }
   ],
   "source": [
    "type([]) # anything that u define inside [] is a list"
   ]
  },
  {
   "cell_type": "code",
   "execution_count": 144,
   "id": "a692d8a3",
   "metadata": {},
   "outputs": [
    {
     "data": {
      "text/plain": [
       "list"
      ]
     },
     "execution_count": 144,
     "metadata": {},
     "output_type": "execute_result"
    }
   ],
   "source": [
    "lst_exmple = []\n",
    "type(lst_exmple)"
   ]
  },
  {
   "cell_type": "code",
   "execution_count": 145,
   "id": "707a856a",
   "metadata": {},
   "outputs": [
    {
     "data": {
      "text/plain": [
       "list"
      ]
     },
     "execution_count": 145,
     "metadata": {},
     "output_type": "execute_result"
    }
   ],
   "source": [
    "lst = list() # inbuilt func 'list()'\n",
    "type(lst)"
   ]
  },
  {
   "cell_type": "code",
   "execution_count": 149,
   "id": "cd52ee03",
   "metadata": {},
   "outputs": [],
   "source": [
    "lst = ['Math', 'Sience', 100, 500, 40.22]"
   ]
  },
  {
   "cell_type": "code",
   "execution_count": 147,
   "id": "5ffe8db5",
   "metadata": {},
   "outputs": [
    {
     "data": {
      "text/plain": [
       "list"
      ]
     },
     "execution_count": 147,
     "metadata": {},
     "output_type": "execute_result"
    }
   ],
   "source": [
    "type(lst)"
   ]
  },
  {
   "cell_type": "code",
   "execution_count": 150,
   "id": "6b44f1b8",
   "metadata": {},
   "outputs": [
    {
     "data": {
      "text/plain": [
       "5"
      ]
     },
     "execution_count": 150,
     "metadata": {},
     "output_type": "execute_result"
    }
   ],
   "source": [
    "len(lst)"
   ]
  },
  {
   "cell_type": "markdown",
   "id": "cf283abb",
   "metadata": {},
   "source": [
    " ### inbuilt func inside list\n",
    " \n",
    " - append\n",
    " - insert \n",
    " - extend\n",
    " - sum\n",
    " - pop\n",
    " - count\n",
    " - index\n",
    " - min,max"
   ]
  },
  {
   "cell_type": "code",
   "execution_count": 151,
   "id": "626c047e",
   "metadata": {},
   "outputs": [],
   "source": [
    "lst.append('new_var')   #add by default at the end of thr list"
   ]
  },
  {
   "cell_type": "code",
   "execution_count": 152,
   "id": "d9e46e4b",
   "metadata": {},
   "outputs": [
    {
     "data": {
      "text/plain": [
       "6"
      ]
     },
     "execution_count": 152,
     "metadata": {},
     "output_type": "execute_result"
    }
   ],
   "source": [
    "len(lst)"
   ]
  },
  {
   "cell_type": "code",
   "execution_count": 153,
   "id": "689f51dd",
   "metadata": {},
   "outputs": [
    {
     "name": "stdout",
     "output_type": "stream",
     "text": [
      "['Math', 'Sience', 100, 500, 40.22, 'new_var']\n"
     ]
    }
   ],
   "source": [
    "print(lst)"
   ]
  },
  {
   "cell_type": "code",
   "execution_count": 155,
   "id": "a94e0857",
   "metadata": {},
   "outputs": [],
   "source": [
    "lst.insert(5,22) # insert in specific order      #insert(index,value)"
   ]
  },
  {
   "cell_type": "code",
   "execution_count": 157,
   "id": "c07a0ea8",
   "metadata": {},
   "outputs": [
    {
     "name": "stdout",
     "output_type": "stream",
     "text": [
      "['Math', 'Sience', 100, 500, 40.22, 22, 'new_var']\n"
     ]
    }
   ],
   "source": [
    "print(lst)"
   ]
  },
  {
   "cell_type": "code",
   "execution_count": 158,
   "id": "5b506eb6",
   "metadata": {},
   "outputs": [],
   "source": [
    "lst.insert(0, \"first_item\")"
   ]
  },
  {
   "cell_type": "code",
   "execution_count": 159,
   "id": "86ae7241",
   "metadata": {},
   "outputs": [
    {
     "name": "stdout",
     "output_type": "stream",
     "text": [
      "['first_item', 'Math', 'Sience', 100, 500, 40.22, 22, 'new_var']\n"
     ]
    }
   ],
   "source": [
    "print(lst)"
   ]
  },
  {
   "cell_type": "code",
   "execution_count": 160,
   "id": "475e79b9",
   "metadata": {},
   "outputs": [
    {
     "data": {
      "text/plain": [
       "'first_item'"
      ]
     },
     "execution_count": 160,
     "metadata": {},
     "output_type": "execute_result"
    }
   ],
   "source": [
    "lst[0]"
   ]
  },
  {
   "cell_type": "code",
   "execution_count": 168,
   "id": "28814f88",
   "metadata": {},
   "outputs": [
    {
     "data": {
      "text/plain": [
       "['Math', 'Sience', 100]"
      ]
     },
     "execution_count": 168,
     "metadata": {},
     "output_type": "execute_result"
    }
   ],
   "source": [
    "lst[1:4]"
   ]
  },
  {
   "cell_type": "code",
   "execution_count": 169,
   "id": "a38e91f9",
   "metadata": {},
   "outputs": [
    {
     "data": {
      "text/plain": [
       "['first_item', 'Math', 'Sience', 100, 500, 40.22, 22, 'new_var']"
      ]
     },
     "execution_count": 169,
     "metadata": {},
     "output_type": "execute_result"
    }
   ],
   "source": [
    "lst[:]"
   ]
  },
  {
   "cell_type": "code",
   "execution_count": 170,
   "id": "6b6da71b",
   "metadata": {},
   "outputs": [
    {
     "data": {
      "text/plain": [
       "['Sience', 100, 500, 40.22, 22, 'new_var']"
      ]
     },
     "execution_count": 170,
     "metadata": {},
     "output_type": "execute_result"
    }
   ],
   "source": [
    "lst[2:]"
   ]
  },
  {
   "cell_type": "code",
   "execution_count": 171,
   "id": "78e5db6e",
   "metadata": {},
   "outputs": [],
   "source": [
    "lst.append([\"Nested\" , \"list\"])"
   ]
  },
  {
   "cell_type": "code",
   "execution_count": 175,
   "id": "247b43ab",
   "metadata": {},
   "outputs": [
    {
     "data": {
      "text/plain": [
       "['first_item',\n",
       " 'Math',\n",
       " 'Sience',\n",
       " 100,\n",
       " 500,\n",
       " 40.22,\n",
       " 22,\n",
       " 'new_var',\n",
       " ['Nested', 'list']]"
      ]
     },
     "execution_count": 175,
     "metadata": {},
     "output_type": "execute_result"
    }
   ],
   "source": [
    "lst"
   ]
  },
  {
   "cell_type": "code",
   "execution_count": 176,
   "id": "421b9c8c",
   "metadata": {},
   "outputs": [
    {
     "name": "stdout",
     "output_type": "stream",
     "text": [
      "['first_item', 'Math', 'Sience', 100, 500, 40.22, 22, 'new_var', ['Nested', 'list']]\n"
     ]
    }
   ],
   "source": [
    "print(lst)"
   ]
  },
  {
   "cell_type": "code",
   "execution_count": 177,
   "id": "146bd454",
   "metadata": {},
   "outputs": [],
   "source": [
    "lst2 = [1,2,3,4,5,6,7,8,9,10]"
   ]
  },
  {
   "cell_type": "code",
   "execution_count": 178,
   "id": "9fc86769",
   "metadata": {},
   "outputs": [],
   "source": [
    "lst2.extend([11,12,13])"
   ]
  },
  {
   "cell_type": "code",
   "execution_count": 179,
   "id": "6ce98cc1",
   "metadata": {},
   "outputs": [
    {
     "data": {
      "text/plain": [
       "[1, 2, 3, 4, 5, 6, 7, 8, 9, 10, 11, 12, 13]"
      ]
     },
     "execution_count": 179,
     "metadata": {},
     "output_type": "execute_result"
    }
   ],
   "source": [
    "lst2"
   ]
  },
  {
   "cell_type": "code",
   "execution_count": 180,
   "id": "35d87e25",
   "metadata": {},
   "outputs": [
    {
     "name": "stdout",
     "output_type": "stream",
     "text": [
      "[1, 2, 3, 4, 5, 6, 7, 8, 9, 10, 11, 12, 13]\n"
     ]
    }
   ],
   "source": [
    "print(lst2)"
   ]
  },
  {
   "cell_type": "code",
   "execution_count": 181,
   "id": "b9f9d547",
   "metadata": {},
   "outputs": [
    {
     "data": {
      "text/plain": [
       "91"
      ]
     },
     "execution_count": 181,
     "metadata": {},
     "output_type": "execute_result"
    }
   ],
   "source": [
    "sum(lst2)"
   ]
  },
  {
   "cell_type": "code",
   "execution_count": 183,
   "id": "fee0669f",
   "metadata": {},
   "outputs": [
    {
     "data": {
      "text/plain": [
       "['Nested', 'list']"
      ]
     },
     "execution_count": 183,
     "metadata": {},
     "output_type": "execute_result"
    }
   ],
   "source": [
    "lst.pop()    #remove items from the list and return its value, by default it remove the last item"
   ]
  },
  {
   "cell_type": "code",
   "execution_count": 184,
   "id": "c9e8842d",
   "metadata": {},
   "outputs": [
    {
     "data": {
      "text/plain": [
       "['first_item', 'Math', 'Sience', 100, 500, 40.22, 22, 'new_var']"
      ]
     },
     "execution_count": 184,
     "metadata": {},
     "output_type": "execute_result"
    }
   ],
   "source": [
    "lst"
   ]
  },
  {
   "cell_type": "code",
   "execution_count": 185,
   "id": "5493fda1",
   "metadata": {},
   "outputs": [
    {
     "data": {
      "text/plain": [
       "13"
      ]
     },
     "execution_count": 185,
     "metadata": {},
     "output_type": "execute_result"
    }
   ],
   "source": [
    "lst2.pop()"
   ]
  },
  {
   "cell_type": "code",
   "execution_count": 186,
   "id": "07aa39f4",
   "metadata": {},
   "outputs": [
    {
     "data": {
      "text/plain": [
       "[1, 2, 3, 4, 5, 6, 7, 8, 9, 10, 11, 12]"
      ]
     },
     "execution_count": 186,
     "metadata": {},
     "output_type": "execute_result"
    }
   ],
   "source": [
    "lst2"
   ]
  },
  {
   "cell_type": "code",
   "execution_count": 187,
   "id": "659b45c9",
   "metadata": {},
   "outputs": [
    {
     "data": {
      "text/plain": [
       "12"
      ]
     },
     "execution_count": 187,
     "metadata": {},
     "output_type": "execute_result"
    }
   ],
   "source": [
    "lst2.pop(-1)"
   ]
  },
  {
   "cell_type": "code",
   "execution_count": 189,
   "id": "a9f7ff20",
   "metadata": {},
   "outputs": [
    {
     "data": {
      "text/plain": [
       "[1, 2, 3, 4, 5, 6, 7, 8, 9, 10, 11]"
      ]
     },
     "execution_count": 189,
     "metadata": {},
     "output_type": "execute_result"
    }
   ],
   "source": [
    "lst2"
   ]
  },
  {
   "cell_type": "code",
   "execution_count": 190,
   "id": "35d59f5a",
   "metadata": {},
   "outputs": [
    {
     "data": {
      "text/plain": [
       "6"
      ]
     },
     "execution_count": 190,
     "metadata": {},
     "output_type": "execute_result"
    }
   ],
   "source": [
    "lst2.pop(5)"
   ]
  },
  {
   "cell_type": "code",
   "execution_count": 191,
   "id": "274947dd",
   "metadata": {},
   "outputs": [
    {
     "data": {
      "text/plain": [
       "[1, 2, 3, 4, 5, 7, 8, 9, 10, 11]"
      ]
     },
     "execution_count": 191,
     "metadata": {},
     "output_type": "execute_result"
    }
   ],
   "source": [
    "lst2"
   ]
  },
  {
   "cell_type": "code",
   "execution_count": 210,
   "id": "5709e3c5",
   "metadata": {},
   "outputs": [
    {
     "name": "stdout",
     "output_type": "stream",
     "text": [
      "my name is: Qusay\n"
     ]
    }
   ],
   "source": [
    "lst3 = []\n",
    "lst3.append(10)\n",
    "lst3.extend([20,30,40])\n",
    "sum(lst3)\n",
    "lst3.pop()\n",
    "lst3.pop(0)\n",
    "lst3\n",
    "sum(lst3)\n",
    "lst3.append(70)\n",
    "lst3\n",
    "lst3.extend([200,\"Qusay\"])\n",
    "lst3\n",
    "print(\"my name is: {}\".format(lst3[-1]))"
   ]
  },
  {
   "cell_type": "code",
   "execution_count": 215,
   "id": "591e34a4",
   "metadata": {},
   "outputs": [
    {
     "data": {
      "text/plain": [
       "5"
      ]
     },
     "execution_count": 215,
     "metadata": {},
     "output_type": "execute_result"
    }
   ],
   "source": [
    "lst4 = [1,1,2,3,4,5,6,6,6,6,6,]\n",
    "lst4.count(6)     # 3dd mrat alzohor"
   ]
  },
  {
   "cell_type": "code",
   "execution_count": 231,
   "id": "25eb9dce",
   "metadata": {},
   "outputs": [
    {
     "data": {
      "text/plain": [
       "3"
      ]
     },
     "execution_count": 231,
     "metadata": {},
     "output_type": "execute_result"
    }
   ],
   "source": [
    "lst4.index(3,2,5) #find if number 3 in the list from 2nd - 5th elements\n",
    "#lst4.index(value,index,index) , value and from where to be searched , index to index"
   ]
  },
  {
   "cell_type": "code",
   "execution_count": 232,
   "id": "8e8bfe48",
   "metadata": {},
   "outputs": [
    {
     "data": {
      "text/plain": [
       "[1, 2, 3, 4, 5, 7, 8, 9, 10, 11]"
      ]
     },
     "execution_count": 232,
     "metadata": {},
     "output_type": "execute_result"
    }
   ],
   "source": [
    "lst2"
   ]
  },
  {
   "cell_type": "code",
   "execution_count": 238,
   "id": "b2023bfe",
   "metadata": {},
   "outputs": [
    {
     "data": {
      "text/plain": [
       "4"
      ]
     },
     "execution_count": 238,
     "metadata": {},
     "output_type": "execute_result"
    }
   ],
   "source": [
    "lst2.index(5,4,6)"
   ]
  },
  {
   "cell_type": "code",
   "execution_count": 240,
   "id": "5f3b12bb",
   "metadata": {},
   "outputs": [
    {
     "data": {
      "text/plain": [
       "11"
      ]
     },
     "execution_count": 240,
     "metadata": {},
     "output_type": "execute_result"
    }
   ],
   "source": [
    "lst2.pop()"
   ]
  },
  {
   "cell_type": "code",
   "execution_count": 242,
   "id": "88404d9b",
   "metadata": {},
   "outputs": [
    {
     "data": {
      "text/plain": [
       "1"
      ]
     },
     "execution_count": 242,
     "metadata": {},
     "output_type": "execute_result"
    }
   ],
   "source": [
    "min(lst2)"
   ]
  },
  {
   "cell_type": "code",
   "execution_count": 243,
   "id": "11c521d6",
   "metadata": {},
   "outputs": [
    {
     "data": {
      "text/plain": [
       "10"
      ]
     },
     "execution_count": 243,
     "metadata": {},
     "output_type": "execute_result"
    }
   ],
   "source": [
    "max(lst2)"
   ]
  },
  {
   "cell_type": "code",
   "execution_count": 244,
   "id": "e960ff31",
   "metadata": {},
   "outputs": [
    {
     "data": {
      "text/plain": [
       "[1, 2, 3, 4, 5, 7, 8, 9, 10]"
      ]
     },
     "execution_count": 244,
     "metadata": {},
     "output_type": "execute_result"
    }
   ],
   "source": [
    "lst2"
   ]
  },
  {
   "cell_type": "code",
   "execution_count": 245,
   "id": "90b7b6f6",
   "metadata": {},
   "outputs": [
    {
     "data": {
      "text/plain": [
       "[1, 2, 3, 4, 5, 7, 8, 9, 10, 1, 2, 3, 4, 5, 7, 8, 9, 10]"
      ]
     },
     "execution_count": 245,
     "metadata": {},
     "output_type": "execute_result"
    }
   ],
   "source": [
    "lst2*2 #the whole list will be appended again"
   ]
  },
  {
   "cell_type": "code",
   "execution_count": 249,
   "id": "4347ae32",
   "metadata": {},
   "outputs": [
    {
     "data": {
      "text/plain": [
       "[1,\n",
       " 2,\n",
       " 3,\n",
       " 4,\n",
       " 5,\n",
       " 7,\n",
       " 8,\n",
       " 9,\n",
       " 10,\n",
       " 1,\n",
       " 2,\n",
       " 3,\n",
       " 4,\n",
       " 5,\n",
       " 7,\n",
       " 8,\n",
       " 9,\n",
       " 10,\n",
       " 1,\n",
       " 2,\n",
       " 3,\n",
       " 4,\n",
       " 5,\n",
       " 7,\n",
       " 8,\n",
       " 9,\n",
       " 10,\n",
       " 1,\n",
       " 2,\n",
       " 3,\n",
       " 4,\n",
       " 5,\n",
       " 7,\n",
       " 8,\n",
       " 9,\n",
       " 10,\n",
       " 1,\n",
       " 2,\n",
       " 3,\n",
       " 4,\n",
       " 5,\n",
       " 7,\n",
       " 8,\n",
       " 9,\n",
       " 10]"
      ]
     },
     "execution_count": 249,
     "metadata": {},
     "output_type": "execute_result"
    }
   ],
   "source": [
    "lst2*5"
   ]
  },
  {
   "cell_type": "markdown",
   "id": "6760bddb",
   "metadata": {},
   "source": [
    "## Set"
   ]
  },
  {
   "cell_type": "code",
   "execution_count": 58,
   "id": "85cc9031",
   "metadata": {},
   "outputs": [
    {
     "name": "stdout",
     "output_type": "stream",
     "text": [
      "{'Math', 'DBMS', 'Design Thinking', 'ML1'}\n",
      "{'ML2', 'Big Data', 'Design Thinking', 'AI Ethics', 'Math', 'ML1', 'DBMS'}\n"
     ]
    },
    {
     "data": {
      "text/plain": [
       "{'DL1', 'DL2'}"
      ]
     },
     "execution_count": 58,
     "metadata": {},
     "output_type": "execute_result"
    }
   ],
   "source": [
    "set_var = {\"ML1\",\"Math\",\"Design Thinking\",\"DBMS\"}\n",
    "set_var2 = {\"ML1\",\"Math\",\"Design Thinking\",\"DBMS\",\"ML2\",\"AI Ethics\",\"Big Data\"}\n",
    "set_var3 = {\"DL1\",\"DL2\"}\n",
    "print(set_var)\n",
    "print(set_var2)\n",
    "set_var3"
   ]
  },
  {
   "cell_type": "code",
   "execution_count": 38,
   "id": "fa2680f9",
   "metadata": {},
   "outputs": [
    {
     "data": {
      "text/plain": [
       "{'DBMS', 'Data Visualization', 'Design Thinking', 'ML1', 'Math'}"
      ]
     },
     "execution_count": 38,
     "metadata": {},
     "output_type": "execute_result"
    }
   ],
   "source": [
    "set_var.add(\"Data Visualization\")\n",
    "set_var"
   ]
  },
  {
   "cell_type": "code",
   "execution_count": 32,
   "id": "b3bf3bc0",
   "metadata": {},
   "outputs": [
    {
     "name": "stdout",
     "output_type": "stream",
     "text": [
      "<class 'set'>\n"
     ]
    }
   ],
   "source": [
    "print(type(set_var))"
   ]
  },
  {
   "cell_type": "code",
   "execution_count": 19,
   "id": "8e8ee4b3",
   "metadata": {},
   "outputs": [],
   "source": [
    "#set_var.clear()"
   ]
  },
  {
   "cell_type": "code",
   "execution_count": 39,
   "id": "925a527b",
   "metadata": {},
   "outputs": [
    {
     "data": {
      "text/plain": [
       "{'DBMS', 'Data Visualization', 'Design Thinking', 'ML1', 'Math'}"
      ]
     },
     "execution_count": 39,
     "metadata": {},
     "output_type": "execute_result"
    }
   ],
   "source": [
    "set_var.copy()"
   ]
  },
  {
   "cell_type": "code",
   "execution_count": 42,
   "id": "1bd0c4b2",
   "metadata": {},
   "outputs": [
    {
     "data": {
      "text/plain": [
       "{'AI Ethics', 'Big Data', 'ML2'}"
      ]
     },
     "execution_count": 42,
     "metadata": {},
     "output_type": "execute_result"
    }
   ],
   "source": [
    "set_var2.difference(set_var) #remove the common elements"
   ]
  },
  {
   "cell_type": "code",
   "execution_count": 48,
   "id": "f5c0f920",
   "metadata": {},
   "outputs": [
    {
     "data": {
      "text/plain": [
       "'DBMS'"
      ]
     },
     "execution_count": 48,
     "metadata": {},
     "output_type": "execute_result"
    }
   ],
   "source": [
    "set_var.pop()"
   ]
  },
  {
   "cell_type": "code",
   "execution_count": 49,
   "id": "2926dfe3",
   "metadata": {},
   "outputs": [
    {
     "data": {
      "text/plain": [
       "{'Data Visualization', 'Design Thinking', 'ML1', 'Math'}"
      ]
     },
     "execution_count": 49,
     "metadata": {},
     "output_type": "execute_result"
    }
   ],
   "source": [
    "set_var"
   ]
  },
  {
   "cell_type": "code",
   "execution_count": 50,
   "id": "2cc3d3b1",
   "metadata": {},
   "outputs": [
    {
     "data": {
      "text/plain": [
       "{'DBMS', 'Data Visualization', 'Design Thinking', 'ML1', 'Math'}"
      ]
     },
     "execution_count": 50,
     "metadata": {},
     "output_type": "execute_result"
    }
   ],
   "source": [
    "set_var.add(\"DBMS\")\n",
    "set_var"
   ]
  },
  {
   "cell_type": "code",
   "execution_count": 51,
   "id": "6b615d9b",
   "metadata": {},
   "outputs": [
    {
     "data": {
      "text/plain": [
       "{'DBMS', 'Design Thinking', 'ML1', 'Math'}"
      ]
     },
     "execution_count": 51,
     "metadata": {},
     "output_type": "execute_result"
    }
   ],
   "source": [
    "set_var.intersection(set_var2)"
   ]
  },
  {
   "cell_type": "code",
   "execution_count": 62,
   "id": "1a90cf89",
   "metadata": {},
   "outputs": [
    {
     "name": "stdout",
     "output_type": "stream",
     "text": [
      "the first set is: {'DL1', 'Design Thinking', 'DL2', 'Math', 'ML1', 'DBMS'}\n",
      "{'DL1', 'DL2'}\n"
     ]
    }
   ],
   "source": [
    "set_var.update(set_var3)\n",
    "print(\"the first set is: {set}\".format(set=set_var))\n",
    "print(set_var3)"
   ]
  },
  {
   "cell_type": "code",
   "execution_count": 63,
   "id": "b1983406",
   "metadata": {},
   "outputs": [
    {
     "data": {
      "text/plain": [
       "{'DBMS', 'Design Thinking', 'ML1', 'Math'}"
      ]
     },
     "execution_count": 63,
     "metadata": {},
     "output_type": "execute_result"
    }
   ],
   "source": [
    "set_var.intersection(set_var2)"
   ]
  },
  {
   "cell_type": "code",
   "execution_count": 64,
   "id": "9e9afe32",
   "metadata": {},
   "outputs": [
    {
     "data": {
      "text/plain": [
       "{'DBMS', 'DL1', 'DL2', 'Design Thinking', 'ML1', 'Math'}"
      ]
     },
     "execution_count": 64,
     "metadata": {},
     "output_type": "execute_result"
    }
   ],
   "source": [
    "set_var.union(set_var3)\n",
    "set_var"
   ]
  },
  {
   "cell_type": "code",
   "execution_count": 65,
   "id": "9c5b3241",
   "metadata": {},
   "outputs": [
    {
     "data": {
      "text/plain": [
       "{'DBMS', 'DL1', 'DL2', 'Design Thinking', 'ML1'}"
      ]
     },
     "execution_count": 65,
     "metadata": {},
     "output_type": "execute_result"
    }
   ],
   "source": [
    "set_var.remove(\"Math\")\n",
    "set_var"
   ]
  },
  {
   "cell_type": "code",
   "execution_count": 66,
   "id": "40a4f5c5",
   "metadata": {},
   "outputs": [],
   "source": [
    "set_var.add(\"math\")"
   ]
  },
  {
   "cell_type": "code",
   "execution_count": 67,
   "id": "29cdc73d",
   "metadata": {},
   "outputs": [
    {
     "data": {
      "text/plain": [
       "{'DBMS', 'DL1', 'DL2', 'Design Thinking', 'ML1', 'math'}"
      ]
     },
     "execution_count": 67,
     "metadata": {},
     "output_type": "execute_result"
    }
   ],
   "source": [
    "set_var"
   ]
  },
  {
   "cell_type": "code",
   "execution_count": 68,
   "id": "da2fc747",
   "metadata": {},
   "outputs": [
    {
     "data": {
      "text/plain": [
       "{'project'}"
      ]
     },
     "execution_count": 68,
     "metadata": {},
     "output_type": "execute_result"
    }
   ],
   "source": [
    "set_var4 = {\"project\"}\n",
    "set_var4.difference_update(set_var2)\n",
    "set_var4"
   ]
  },
  {
   "cell_type": "code",
   "execution_count": 81,
   "id": "8d82dab4",
   "metadata": {},
   "outputs": [
    {
     "name": "stdout",
     "output_type": "stream",
     "text": [
      "{1, 2}\n",
      "None\n",
      "set()\n",
      "None\n",
      "set()\n"
     ]
    }
   ],
   "source": [
    "set1 = {1,2,3}\n",
    "set2 = {3,4,5}\n",
    "print(set1.difference(set2))\n",
    "print(set1.difference_update(set2))\n",
    "print(set1.intersection(set2))\n",
    "print(set1.intersection_update(set2))\n",
    "print(set1)\n",
    "set1.add(1)\n",
    "set1.remove(1)"
   ]
  },
  {
   "cell_type": "markdown",
   "id": "c7c8a256",
   "metadata": {},
   "source": [
    "## Dictionary"
   ]
  },
  {
   "cell_type": "code",
   "execution_count": 82,
   "id": "6c711366",
   "metadata": {},
   "outputs": [
    {
     "data": {
      "text/plain": [
       "dict"
      ]
     },
     "execution_count": 82,
     "metadata": {},
     "output_type": "execute_result"
    }
   ],
   "source": [
    "dic = {}\n",
    "type(dic)"
   ]
  },
  {
   "cell_type": "code",
   "execution_count": 83,
   "id": "7936df19",
   "metadata": {},
   "outputs": [
    {
     "data": {
      "text/plain": [
       "set"
      ]
     },
     "execution_count": 83,
     "metadata": {},
     "output_type": "execute_result"
    }
   ],
   "source": [
    "dic = {1,2,3}    #key:value\n",
    "type(dic)"
   ]
  },
  {
   "cell_type": "code",
   "execution_count": 84,
   "id": "ea201adc",
   "metadata": {},
   "outputs": [
    {
     "data": {
      "text/plain": [
       "dict"
      ]
     },
     "execution_count": 84,
     "metadata": {},
     "output_type": "execute_result"
    }
   ],
   "source": [
    "type(dict())"
   ]
  },
  {
   "cell_type": "code",
   "execution_count": 91,
   "id": "23ebb7b4",
   "metadata": {},
   "outputs": [
    {
     "data": {
      "text/plain": [
       "{'class1': 'Math', 'class2': 'ML1', 'class3': 'DBMS'}"
      ]
     },
     "execution_count": 91,
     "metadata": {},
     "output_type": "execute_result"
    }
   ],
   "source": [
    "my_dict = {\"class1\":\"Math\", \"class2\": \"ML1\", \"class3\": \"DBMS\"}\n",
    "my_dict"
   ]
  },
  {
   "cell_type": "code",
   "execution_count": 100,
   "id": "0410b305",
   "metadata": {},
   "outputs": [
    {
     "data": {
      "text/plain": [
       "'Math'"
      ]
     },
     "execution_count": 100,
     "metadata": {},
     "output_type": "execute_result"
    }
   ],
   "source": [
    "#access the value based on key\n",
    "my_dict[\"class1\"]\n",
    "# print(my_dict[\"class2\"])\n",
    "# print(my_dict[\"class3\"])"
   ]
  },
  {
   "cell_type": "code",
   "execution_count": 101,
   "id": "10cd1cc3",
   "metadata": {},
   "outputs": [
    {
     "name": "stdout",
     "output_type": "stream",
     "text": [
      "class1\n",
      "class2\n",
      "class3\n"
     ]
    }
   ],
   "source": [
    "for i in my_dict:\n",
    "    print(i)"
   ]
  },
  {
   "cell_type": "code",
   "execution_count": 105,
   "id": "de7e2e58",
   "metadata": {},
   "outputs": [
    {
     "name": "stdout",
     "output_type": "stream",
     "text": [
      "Math\n",
      "ML1\n",
      "DBMS\n"
     ]
    }
   ],
   "source": [
    "for i in my_dict.values():\n",
    "    print(i)"
   ]
  },
  {
   "cell_type": "code",
   "execution_count": 106,
   "id": "c45e2387",
   "metadata": {},
   "outputs": [
    {
     "name": "stdout",
     "output_type": "stream",
     "text": [
      "('class1', 'Math')\n",
      "('class2', 'ML1')\n",
      "('class3', 'DBMS')\n"
     ]
    }
   ],
   "source": [
    "for i in my_dict.items():    # getting both, key & value\n",
    "    print(i)"
   ]
  },
  {
   "cell_type": "code",
   "execution_count": 108,
   "id": "6a167d4f",
   "metadata": {},
   "outputs": [
    {
     "data": {
      "text/plain": [
       "'Math'"
      ]
     },
     "execution_count": 108,
     "metadata": {},
     "output_type": "execute_result"
    }
   ],
   "source": [
    "my_dict.get(\"class1\")"
   ]
  },
  {
   "cell_type": "code",
   "execution_count": 113,
   "id": "028d445f",
   "metadata": {},
   "outputs": [],
   "source": [
    "my_dict[\"class4\"] = \"Data Visualization\""
   ]
  },
  {
   "cell_type": "code",
   "execution_count": 114,
   "id": "9ecf7696",
   "metadata": {},
   "outputs": [
    {
     "data": {
      "text/plain": [
       "{'class1': 'Math',\n",
       " 'class2': 'ML1',\n",
       " 'class3': 'DBMS',\n",
       " 'class4': 'Data Visualization'}"
      ]
     },
     "execution_count": 114,
     "metadata": {},
     "output_type": "execute_result"
    }
   ],
   "source": [
    "my_dict"
   ]
  },
  {
   "cell_type": "code",
   "execution_count": 115,
   "id": "d0c284c2",
   "metadata": {},
   "outputs": [
    {
     "data": {
      "text/plain": [
       "{'class1': 'Math', 'class2': 'ML1', 'class3': 'DBMS', 'class4': 'Project'}"
      ]
     },
     "execution_count": 115,
     "metadata": {},
     "output_type": "execute_result"
    }
   ],
   "source": [
    "my_dict[\"class4\"] = \"Project\"          #when appending it will get overwritten\n",
    "my_dict"
   ]
  },
  {
   "cell_type": "code",
   "execution_count": 116,
   "id": "b0e2528e",
   "metadata": {},
   "outputs": [
    {
     "data": {
      "text/plain": [
       "dict_values(['Math', 'ML1', 'DBMS', 'Project'])"
      ]
     },
     "execution_count": 116,
     "metadata": {},
     "output_type": "execute_result"
    }
   ],
   "source": [
    "my_dict.values()"
   ]
  },
  {
   "cell_type": "code",
   "execution_count": 117,
   "id": "d07419a9",
   "metadata": {},
   "outputs": [
    {
     "data": {
      "text/plain": [
       "dict_items([('class1', 'Math'), ('class2', 'ML1'), ('class3', 'DBMS'), ('class4', 'Project')])"
      ]
     },
     "execution_count": 117,
     "metadata": {},
     "output_type": "execute_result"
    }
   ],
   "source": [
    "my_dict.items()"
   ]
  },
  {
   "cell_type": "code",
   "execution_count": 118,
   "id": "0809d250",
   "metadata": {},
   "outputs": [
    {
     "data": {
      "text/plain": [
       "dict_keys(['class1', 'class2', 'class3', 'class4'])"
      ]
     },
     "execution_count": 118,
     "metadata": {},
     "output_type": "execute_result"
    }
   ],
   "source": [
    "my_dict.keys()"
   ]
  },
  {
   "cell_type": "code",
   "execution_count": 131,
   "id": "80d32a4b",
   "metadata": {},
   "outputs": [
    {
     "data": {
      "text/plain": [
       "{'class1': 'Math', 'class2': 'ML1', 'class3': 'DBMS', 'class4': 'Project'}"
      ]
     },
     "execution_count": 131,
     "metadata": {},
     "output_type": "execute_result"
    }
   ],
   "source": [
    "my_dict.copy()   #show copy of dictinoay"
   ]
  },
  {
   "cell_type": "code",
   "execution_count": 133,
   "id": "0113ce66",
   "metadata": {},
   "outputs": [
    {
     "data": {
      "text/plain": [
       "('class4', 'Project')"
      ]
     },
     "execution_count": 133,
     "metadata": {},
     "output_type": "execute_result"
    }
   ],
   "source": [
    "my_dict.popitem()"
   ]
  },
  {
   "cell_type": "code",
   "execution_count": 134,
   "id": "8c458a65",
   "metadata": {},
   "outputs": [
    {
     "data": {
      "text/plain": [
       "{'class1': 'Math', 'class2': 'ML1', 'class3': 'DBMS'}"
      ]
     },
     "execution_count": 134,
     "metadata": {},
     "output_type": "execute_result"
    }
   ],
   "source": [
    "my_dict"
   ]
  },
  {
   "cell_type": "markdown",
   "id": "e7316faf",
   "metadata": {},
   "source": [
    "## Nested Dictionary"
   ]
  },
  {
   "cell_type": "code",
   "execution_count": 135,
   "id": "671462f2",
   "metadata": {},
   "outputs": [],
   "source": [
    "class1_mark = {\"math\": 80}\n",
    "class2_mark = {\"ML1\" : 78}\n",
    "class3_mark = {\"DBMS\": 91}\n",
    "\n",
    "marks = {\"class1\":class1_mark, \"class2\": class2_mark, \"class3\" : class3_mark}"
   ]
  },
  {
   "cell_type": "code",
   "execution_count": 138,
   "id": "a8d3f9f6",
   "metadata": {},
   "outputs": [
    {
     "data": {
      "text/plain": [
       "{'class1': {'math': 80}, 'class2': {'ML1': 78}, 'class3': {'DBMS': 91}}"
      ]
     },
     "execution_count": 138,
     "metadata": {},
     "output_type": "execute_result"
    }
   ],
   "source": [
    "marks"
   ]
  },
  {
   "cell_type": "code",
   "execution_count": 140,
   "id": "928660c2",
   "metadata": {},
   "outputs": [
    {
     "name": "stdout",
     "output_type": "stream",
     "text": [
      "{'ML1': 78}\n"
     ]
    }
   ],
   "source": [
    "print(marks[\"class2\"])"
   ]
  },
  {
   "cell_type": "code",
   "execution_count": 141,
   "id": "71e22212",
   "metadata": {},
   "outputs": [
    {
     "name": "stdout",
     "output_type": "stream",
     "text": [
      "91\n"
     ]
    }
   ],
   "source": [
    "print(marks[\"class3\"][\"DBMS\"])"
   ]
  },
  {
   "cell_type": "markdown",
   "id": "a7db8627",
   "metadata": {},
   "source": [
    "## Tuples"
   ]
  },
  {
   "cell_type": "code",
   "execution_count": 142,
   "id": "63e4ff66",
   "metadata": {},
   "outputs": [],
   "source": [
    "#when i define it , i can't change everything"
   ]
  },
  {
   "cell_type": "code",
   "execution_count": 144,
   "id": "bf8a902d",
   "metadata": {},
   "outputs": [],
   "source": [
    "my_tuple = tuple()"
   ]
  },
  {
   "cell_type": "code",
   "execution_count": 145,
   "id": "1e7bf4ed",
   "metadata": {},
   "outputs": [
    {
     "data": {
      "text/plain": [
       "tuple"
      ]
     },
     "execution_count": 145,
     "metadata": {},
     "output_type": "execute_result"
    }
   ],
   "source": [
    "type(my_typle)"
   ]
  },
  {
   "cell_type": "code",
   "execution_count": 146,
   "id": "76d3f6de",
   "metadata": {},
   "outputs": [],
   "source": [
    "my_tuple = (\"item1\", \"item2\", \"item3\")"
   ]
  },
  {
   "cell_type": "code",
   "execution_count": 147,
   "id": "5c5e0975",
   "metadata": {},
   "outputs": [
    {
     "data": {
      "text/plain": [
       "('item1', 'item2', 'item3')"
      ]
     },
     "execution_count": 147,
     "metadata": {},
     "output_type": "execute_result"
    }
   ],
   "source": [
    "my_tuple"
   ]
  },
  {
   "cell_type": "code",
   "execution_count": 152,
   "id": "31d4b128",
   "metadata": {},
   "outputs": [
    {
     "ename": "TypeError",
     "evalue": "'tuple' object does not support item assignment",
     "output_type": "error",
     "traceback": [
      "\u001b[1;31m---------------------------------------------------------------------------\u001b[0m",
      "\u001b[1;31mTypeError\u001b[0m                                 Traceback (most recent call last)",
      "Cell \u001b[1;32mIn[152], line 1\u001b[0m\n\u001b[1;32m----> 1\u001b[0m my_tuple[\u001b[38;5;241m0\u001b[39m] \u001b[38;5;241m=\u001b[39m \u001b[38;5;124m\"\u001b[39m\u001b[38;5;124mitem0\u001b[39m\u001b[38;5;124m\"\u001b[39m\n",
      "\u001b[1;31mTypeError\u001b[0m: 'tuple' object does not support item assignment"
     ]
    }
   ],
   "source": [
    "my_tuple[0] = \"item0\"           #can't add or change"
   ]
  },
  {
   "cell_type": "code",
   "execution_count": 2,
   "id": "9e70ef3b",
   "metadata": {},
   "outputs": [
    {
     "data": {
      "text/plain": [
       "('item4', 'item4', 'item5')"
      ]
     },
     "execution_count": 2,
     "metadata": {},
     "output_type": "execute_result"
    }
   ],
   "source": [
    "my_tuple = (\"item4\", \"item4\", \"item5\") #  whole items will change\n",
    "my_tuple"
   ]
  },
  {
   "cell_type": "code",
   "execution_count": 3,
   "id": "8d70cae5",
   "metadata": {},
   "outputs": [
    {
     "data": {
      "text/plain": [
       "2"
      ]
     },
     "execution_count": 3,
     "metadata": {},
     "output_type": "execute_result"
    }
   ],
   "source": [
    "my_tuple.count(\"item4\")   #how many times the item present"
   ]
  },
  {
   "cell_type": "code",
   "execution_count": 160,
   "id": "55c73529",
   "metadata": {},
   "outputs": [
    {
     "data": {
      "text/plain": [
       "1"
      ]
     },
     "execution_count": 160,
     "metadata": {},
     "output_type": "execute_result"
    }
   ],
   "source": [
    "my_tuple.count(\"item5\")"
   ]
  },
  {
   "cell_type": "code",
   "execution_count": 162,
   "id": "712496c7",
   "metadata": {},
   "outputs": [
    {
     "data": {
      "text/plain": [
       "2"
      ]
     },
     "execution_count": 162,
     "metadata": {},
     "output_type": "execute_result"
    }
   ],
   "source": [
    "my_tuple.index(\"item5\")    #show index"
   ]
  },
  {
   "cell_type": "code",
   "execution_count": 154,
   "id": "374f2749",
   "metadata": {},
   "outputs": [],
   "source": [
    "# it use when the definition of an item is required just for one time\n",
    "# I can't perform any operation on it"
   ]
  },
  {
   "cell_type": "code",
   "execution_count": null,
   "id": "35b2290c",
   "metadata": {},
   "outputs": [],
   "source": []
  },
  {
   "cell_type": "code",
   "execution_count": null,
   "id": "6409b119",
   "metadata": {},
   "outputs": [],
   "source": []
  }
 ],
 "metadata": {
  "kernelspec": {
   "display_name": "Python 3 (ipykernel)",
   "language": "python",
   "name": "python3"
  },
  "language_info": {
   "codemirror_mode": {
    "name": "ipython",
    "version": 3
   },
   "file_extension": ".py",
   "mimetype": "text/x-python",
   "name": "python",
   "nbconvert_exporter": "python",
   "pygments_lexer": "ipython3",
   "version": "3.11.9"
  }
 },
 "nbformat": 4,
 "nbformat_minor": 5
}
